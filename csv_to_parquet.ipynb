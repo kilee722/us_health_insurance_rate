{
 "cells": [
  {
   "cell_type": "code",
   "execution_count": 1,
   "metadata": {},
   "outputs": [],
   "source": [
    "import pandas as pd"
   ]
  },
  {
   "cell_type": "code",
   "execution_count": 8,
   "metadata": {},
   "outputs": [],
   "source": [
    "def load_csv(file1,file2,file3,file4, parquet_file):\n",
    "    df1 = pd.read_csv(file1, encoding='ISO 8859-1')\n",
    "    df2 = pd.read_csv(file2, encoding='ISO 8859-1')\n",
    "    df3 = pd.read_csv(file3, encoding='ISO 8859-1')\n",
    "    df4 = pd.read_csv(file4, encoding='ISO 8859-1')\n",
    "    file = df1.append(df2, ignore_index=True).append(df3, ignore_index=True).append(df4, ignore_index=True)\n",
    "    file.to_parquet(parquet_file)\n"
   ]
  },
  {
   "cell_type": "code",
   "execution_count": 10,
   "metadata": {},
   "outputs": [],
   "source": [
    "# Benefits\n",
    "load_csv('Benefits_Cost_Sharing_PUF_2018.csv', 'Benefits_Cost_Sharing_PUF_2019.csv', \n",
    "         'Benefits_Cost_Sharing_PUF_2020.csv', 'Benefits_Cost_Sharing_PUF_2021.csv',\n",
    "        \"Benefits_Cost_Sharing.parquet\")\n",
    "# Plan\n",
    "load_csv('Plan_Attributes_PUF_2018.csv', 'Plan_Attributes_PUF_2019.csv', \n",
    "         'Plan_Attributes_PUF_2020.csv', 'Plan_Attributes_PUF_2021.csv',\n",
    "        \"Plan.parquet\")\n",
    "# Rate\n",
    "load_csv('Rate_PUF_2018.csv', 'Rate_PUF_2019.csv', \n",
    "         'Rate_PUF_2020.csv.csv', 'Rate_PUF_2021.csv',\n",
    "        \"Rate.parquet\")\n",
    "# Business\n",
    "load_csv('Business_Rules_PUF_2018.csv', 'Business_Rules_PUF_2019.csv', \n",
    "         'Business_Rules_PUF_2020.csv', 'Business_Rules_PUF_2021.csv',\n",
    "        \"Business.parquet\")\n",
    "# Network\n",
    "load_csv('Network_PUF_2018.csv', 'Network_PUF_2019.csv', \n",
    "         'Network_PUF_2020.csv', 'Network_PUF_2021.csv',\n",
    "        \"network.parquet\")\n",
    "# Services\n",
    "load_csv('Service_Area_PUF_2018.csv', 'Service_Area_PUF_2019.csv', \n",
    "         'Service_Area_PUF_2020.csv', 'Service_Area_PUF_2021.csv',\n",
    "        \"service.parquet\")"
   ]
  }
 ],
 "metadata": {
  "kernelspec": {
   "display_name": "Python 3",
   "language": "python",
   "name": "python3"
  },
  "language_info": {
   "codemirror_mode": {
    "name": "ipython",
    "version": 3
   },
   "file_extension": ".py",
   "mimetype": "text/x-python",
   "name": "python",
   "nbconvert_exporter": "python",
   "pygments_lexer": "ipython3",
   "version": "3.7.6"
  }
 },
 "nbformat": 4,
 "nbformat_minor": 4
}
